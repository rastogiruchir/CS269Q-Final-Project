{
 "cells": [
  {
   "cell_type": "markdown",
   "metadata": {},
   "source": [
    "# State tomography\n",
    "State tomography involves measuring a quantum state repeatedly in the bases given by `itertools.product(['X', 'Y', 'Z], repeat=n_qubits)`. From these measurements, we can reconstruct a density matrix $\\rho$."
   ]
  },
  {
   "cell_type": "code",
   "execution_count": 1,
   "metadata": {},
   "outputs": [],
   "source": [
    "import numpy as np\n",
    "from pyquil import Program, get_qc\n",
    "from pyquil.gates import *"
   ]
  },
  {
   "cell_type": "markdown",
   "metadata": {},
   "source": [
    "## Construct a state with a `Program`\n",
    "We'll construct a two-qubit graph state by Hadamarding all qubits and then applying a controlled-Z operation across edges of our graph. In the two-qubit case, there's only one edge. "
   ]
  },
  {
   "cell_type": "code",
   "execution_count": 2,
   "metadata": {},
   "outputs": [
    {
     "name": "stdout",
     "output_type": "stream",
     "text": [
      "H 0\n",
      "H 1\n",
      "CZ 0 1\n",
      "\n"
     ]
    }
   ],
   "source": [
    "qubits = [0, 1]\n",
    "program = Program()\n",
    "for qubit in qubits:\n",
    "    program += H(qubit)\n",
    "program += CZ(qubits[0], qubits[1])\n",
    "print(program)"
   ]
  },
  {
   "cell_type": "markdown",
   "metadata": {},
   "source": [
    "## Construct a `TomographyExperiment` for state tomography\n",
    "We can print this out to see the 16 measurements we will perform."
   ]
  },
  {
   "cell_type": "code",
   "execution_count": 3,
   "metadata": {},
   "outputs": [
    {
     "name": "stdout",
     "output_type": "stream",
     "text": [
      "H 0; H 1; CZ 0 1\n",
      "0: Z0_0 * Z0_1→(1+0j)*I\n",
      "1: Z0_0 * Z0_1→(1+0j)*X1\n",
      "2: Z0_0 * Z0_1→(1+0j)*Y1\n",
      "3: Z0_0 * Z0_1→(1+0j)*Z1\n",
      "4: Z0_0 * Z0_1→(1+0j)*X0\n",
      "5: Z0_0 * Z0_1→(1+0j)*X0X1\n",
      "6: Z0_0 * Z0_1→(1+0j)*X0Y1\n",
      "7: Z0_0 * Z0_1→(1+0j)*X0Z1\n",
      "8: Z0_0 * Z0_1→(1+0j)*Y0\n",
      "9: Z0_0 * Z0_1→(1+0j)*Y0X1\n",
      "10: Z0_0 * Z0_1→(1+0j)*Y0Y1\n",
      "11: Z0_0 * Z0_1→(1+0j)*Y0Z1\n",
      "12: Z0_0 * Z0_1→(1+0j)*Z0\n",
      "13: Z0_0 * Z0_1→(1+0j)*Z0X1\n",
      "14: Z0_0 * Z0_1→(1+0j)*Z0Y1\n",
      "15: Z0_0 * Z0_1→(1+0j)*Z0Z1\n"
     ]
    }
   ],
   "source": [
    "from forest.benchmarking.tomography import generate_state_tomography_experiment\n",
    "experiment = generate_state_tomography_experiment(program=program, qubits=qubits)\n",
    "print(experiment)"
   ]
  },
  {
   "cell_type": "markdown",
   "metadata": {},
   "source": [
    "### Optional grouping\n",
    "We can simultaneously estimate some of these observables"
   ]
  },
  {
   "cell_type": "code",
   "execution_count": 4,
   "metadata": {},
   "outputs": [
    {
     "name": "stdout",
     "output_type": "stream",
     "text": [
      "H 0; H 1; CZ 0 1\n",
      "0: Z0_0 * Z0_1→(1+0j)*I, Z0_0 * Z0_1→(1+0j)*X1, Z0_0 * Z0_1→(1+0j)*X0, Z0_0 * Z0_1→(1+0j)*X0X1\n",
      "1: Z0_0 * Z0_1→(1+0j)*Y1, Z0_0 * Z0_1→(1+0j)*X0Y1\n",
      "2: Z0_0 * Z0_1→(1+0j)*Z1, Z0_0 * Z0_1→(1+0j)*X0Z1\n",
      "3: Z0_0 * Z0_1→(1+0j)*Y0, Z0_0 * Z0_1→(1+0j)*Y0X1\n",
      "4: Z0_0 * Z0_1→(1+0j)*Y0Y1\n",
      "5: Z0_0 * Z0_1→(1+0j)*Y0Z1\n",
      "6: Z0_0 * Z0_1→(1+0j)*Z0, Z0_0 * Z0_1→(1+0j)*Z0X1\n",
      "7: Z0_0 * Z0_1→(1+0j)*Z0Y1\n",
      "8: Z0_0 * Z0_1→(1+0j)*Z0Z1\n"
     ]
    }
   ],
   "source": [
    "from pyquil.operator_estimation import group_experiments\n",
    "print(group_experiments(experiment))"
   ]
  },
  {
   "cell_type": "markdown",
   "metadata": {},
   "source": [
    "## PyQuil will run the tomography programs"
   ]
  },
  {
   "cell_type": "code",
   "execution_count": 5,
   "metadata": {},
   "outputs": [
    {
     "data": {
      "text/plain": [
       "[ExperimentResult[Z0_0 * Z0_1→(1+0j)*I: 1.0 +- 0.0],\n",
       " ExperimentResult[Z0_0 * Z0_1→(1+0j)*X1: -0.04 +- 0.0315974682530104],\n",
       " ExperimentResult[Z0_0 * Z0_1→(1+0j)*Y1: -0.03 +- 0.031608543148965274],\n",
       " ExperimentResult[Z0_0 * Z0_1→(1+0j)*Z1: -0.046 +- 0.03158930198659034],\n",
       " ExperimentResult[Z0_0 * Z0_1→(1+0j)*X0: -0.004 +- 0.031622523618459034],\n",
       " ExperimentResult[Z0_0 * Z0_1→(1+0j)*X0X1: 0.02 +- 0.0316164514137814],\n",
       " ExperimentResult[Z0_0 * Z0_1→(1+0j)*X0Y1: -0.06 +- 0.031565804282482644],\n",
       " ExperimentResult[Z0_0 * Z0_1→(1+0j)*X0Z1: 1.0 +- 0.0],\n",
       " ExperimentResult[Z0_0 * Z0_1→(1+0j)*Y0: 0.006 +- 0.03162220738658198],\n",
       " ExperimentResult[Z0_0 * Z0_1→(1+0j)*Y0X1: -0.052 +- 0.031579993666877144],\n",
       " ExperimentResult[Z0_0 * Z0_1→(1+0j)*Y0Y1: 1.0 +- 0.0],\n",
       " ExperimentResult[Z0_0 * Z0_1→(1+0j)*Y0Z1: -0.012 +- 0.03162049967979633],\n",
       " ExperimentResult[Z0_0 * Z0_1→(1+0j)*Z0: -0.018 +- 0.03161765329685301],\n",
       " ExperimentResult[Z0_0 * Z0_1→(1+0j)*Z0X1: 1.0 +- 0.0],\n",
       " ExperimentResult[Z0_0 * Z0_1→(1+0j)*Z0Y1: -0.004 +- 0.031622523618459034],\n",
       " ExperimentResult[Z0_0 * Z0_1→(1+0j)*Z0Z1: 0.01 +- 0.03162119542332326]]"
      ]
     },
     "execution_count": 5,
     "metadata": {},
     "output_type": "execute_result"
    }
   ],
   "source": [
    "from pyquil.operator_estimation import measure_observables\n",
    "\n",
    "qc = get_qc('2q-qvm')\n",
    "# Over-write full quilc compilation with a much more simple\n",
    "# version that *only* substitutes gates to Rigetti-native gates.\n",
    "# We don't want to accidentally compile away our tomography circuit\n",
    "# or map to different qubits.\n",
    "from forest.benchmarking.compilation import basic_compile\n",
    "qc.compiler.quil_to_native_quil = basic_compile\n",
    "\n",
    "results = list(measure_observables(qc=qc, tomo_experiment=experiment, n_shots=1_000))\n",
    "results"
   ]
  },
  {
   "cell_type": "markdown",
   "metadata": {},
   "source": [
    "### We can look at a bunch of numbers..."
   ]
  },
  {
   "cell_type": "code",
   "execution_count": 6,
   "metadata": {},
   "outputs": [
    {
     "data": {
      "text/plain": [
       "array([[ 0.236+0.j   ,  0.249+0.001j,  0.24 +0.008j, -0.245+0.028j],\n",
       "       [ 0.249-0.002j,  0.24 +0.j   ,  0.255+0.002j, -0.26 +0.007j],\n",
       "       [ 0.24 -0.008j,  0.255-0.002j,  0.254-0.j   , -0.251-0.005j],\n",
       "       [-0.245-0.028j, -0.26 -0.007j, -0.251+0.005j,  0.268-0.j   ]])"
      ]
     },
     "execution_count": 6,
     "metadata": {},
     "output_type": "execute_result"
    }
   ],
   "source": [
    "from forest.benchmarking.tomography import linear_inv_state_estimate\n",
    "rho = linear_inv_state_estimate(results, qubits=qubits)\n",
    "np.round(rho, 3)"
   ]
  },
  {
   "cell_type": "code",
   "execution_count": 7,
   "metadata": {},
   "outputs": [
    {
     "data": {
      "text/plain": [
       "array([[ 0.25,  0.25,  0.25, -0.25],\n",
       "       [ 0.25,  0.25,  0.25, -0.25],\n",
       "       [ 0.25,  0.25,  0.25, -0.25],\n",
       "       [-0.25, -0.25, -0.25,  0.25]])"
      ]
     },
     "execution_count": 7,
     "metadata": {},
     "output_type": "execute_result"
    }
   ],
   "source": [
    "psi = (1/2) * np.array([1, 1, 1, -1])\n",
    "rho_true = np.outer(psi, psi.T.conj())\n",
    "rho_true"
   ]
  },
  {
   "cell_type": "markdown",
   "metadata": {},
   "source": [
    "### Or visualize using Hinton plots"
   ]
  },
  {
   "cell_type": "code",
   "execution_count": 8,
   "metadata": {},
   "outputs": [],
   "source": [
    "from matplotlib import pyplot as plt\n",
    "from forest.benchmarking.plotting import hinton\n",
    "fig, (ax1, ax2) = plt.subplots(1, 2)\n",
    "hinton(rho_true, ax=ax1)\n",
    "hinton(rho, ax=ax2)\n",
    "ax1.set_title('Analytical')\n",
    "ax2.set_title('Estimated')\n",
    "fig.tight_layout()"
   ]
  },
  {
   "cell_type": "markdown",
   "metadata": {},
   "source": [
    "### Matrix norm between true and estimated is low"
   ]
  },
  {
   "cell_type": "code",
   "execution_count": 9,
   "metadata": {},
   "outputs": [
    {
     "data": {
      "text/plain": [
       "0.05467174773134664"
      ]
     },
     "execution_count": 9,
     "metadata": {},
     "output_type": "execute_result"
    }
   ],
   "source": [
    "np.linalg.norm(rho - rho_true)"
   ]
  },
  {
   "cell_type": "markdown",
   "metadata": {},
   "source": [
    "## Linear inversion estimate"
   ]
  },
  {
   "cell_type": "code",
   "execution_count": 10,
   "metadata": {},
   "outputs": [
    {
     "name": "stdout",
     "output_type": "stream",
     "text": [
      "[[ 0.2365+0.j      0.249 +0.0015j  0.24  +0.0085j -0.245 +0.028j ]\n",
      " [ 0.249 -0.0015j  0.2405+0.j      0.255 +0.002j  -0.26  +0.0065j]\n",
      " [ 0.24  -0.0085j  0.255 -0.002j   0.2545-0.j     -0.251 -0.0045j]\n",
      " [-0.245 -0.028j  -0.26  -0.0065j -0.251 +0.0045j  0.2685-0.j    ]]\n",
      "Purity = (1.0029890000000004-1.721713049906981e-16j)\n"
     ]
    },
    {
     "data": {
      "image/png": "[encoded data removed]",
      "text/plain": [
       "<Figure size 432x288 with 1 Axes>"
      ]
     },
     "metadata": {},
     "output_type": "display_data"
    }
   ],
   "source": [
    "from forest.benchmarking.tomography import linear_inv_state_estimate\n",
    "rho = linear_inv_state_estimate(results, qubits=qubits)\n",
    "\n",
    "print(np.round(rho, 4))\n",
    "print('Purity =', np.trace(rho @ rho))\n",
    "hinton(rho)"
   ]
  },
  {
   "cell_type": "markdown",
   "metadata": {},
   "source": [
    "## Maximum Liklihood Estimate (MLE) via diluted iterative method"
   ]
  },
  {
   "cell_type": "code",
   "execution_count": 11,
   "metadata": {},
   "outputs": [
    {
     "name": "stdout",
     "output_type": "stream",
     "text": [
      "[[ 0.2403-0.j      0.2458-0.0021j  0.2451-0.0021j -0.2491+0.008j ]\n",
      " [ 0.2458+0.0021j  0.2514-0.j      0.2507-0.j     -0.2548+0.006j ]\n",
      " [ 0.2451+0.0021j  0.2507+0.j      0.2499+0.j     -0.254 +0.0059j]\n",
      " [-0.2491-0.008j  -0.2548-0.006j  -0.254 -0.0059j  0.2584+0.j    ]]\n",
      "Purity = (0.9999999346612869-1.973247953923618e-17j)\n"
     ]
    },
    {
     "data": {
      "image/png": "[encoded data removed]",
      "text/plain": [
       "<Figure size 432x288 with 1 Axes>"
      ]
     },
     "metadata": {},
     "output_type": "display_data"
    }
   ],
   "source": [
    "from forest.benchmarking.tomography import iterative_mle_state_estimate\n",
    "rho = iterative_mle_state_estimate(results=results, qubits=qubits)\n",
    "print(np.around(rho, decimals=4))\n",
    "print('Purity =', np.trace(rho @ rho))\n",
    "hinton(rho)"
   ]
  },
  {
   "cell_type": "markdown",
   "metadata": {},
   "source": [
    "## MLE with Max Entropy constraint"
   ]
  },
  {
   "cell_type": "code",
   "execution_count": 12,
   "metadata": {},
   "outputs": [
    {
     "name": "stdout",
     "output_type": "stream",
     "text": [
      "[[ 0.2403+0.j      0.2458-0.0021j  0.2451-0.0021j -0.2491+0.008j ]\n",
      " [ 0.2458+0.0021j  0.2514+0.j      0.2507-0.j     -0.2548+0.006j ]\n",
      " [ 0.2451+0.0021j  0.2507+0.j      0.2499-0.j     -0.254 +0.0059j]\n",
      " [-0.2491-0.008j  -0.2548-0.006j  -0.254 -0.0059j  0.2584-0.j    ]]\n",
      "Purity = (0.9999999478744968+8.239936510889834e-18j)\n"
     ]
    },
    {
     "data": {
      "image/png": "[encoded data removed]",
      "text/plain": [
       "<Figure size 432x288 with 1 Axes>"
      ]
     },
     "metadata": {},
     "output_type": "display_data"
    }
   ],
   "source": [
    "rho = iterative_mle_state_estimate(results=results, qubits=qubits, epsilon=0.5, entropy_penalty=0.005)\n",
    "print(np.around(rho, decimals=4))\n",
    "print('Purity =', np.trace(rho @ rho))\n",
    "hinton(rho)"
   ]
  },
  {
   "cell_type": "markdown",
   "metadata": {},
   "source": [
    "## MLE with Hedging parameter"
   ]
  },
  {
   "cell_type": "code",
   "execution_count": 13,
   "metadata": {},
   "outputs": [
    {
     "name": "stdout",
     "output_type": "stream",
     "text": [
      "[[ 0.2403-0.j      0.2455-0.0021j  0.2448-0.0021j -0.2487+0.008j ]\n",
      " [ 0.2455+0.0021j  0.2514+0.j      0.2504-0.j     -0.2545+0.006j ]\n",
      " [ 0.2448+0.0021j  0.2504+0.j      0.2499+0.j     -0.2537+0.0059j]\n",
      " [-0.2487-0.008j  -0.2545-0.006j  -0.2537-0.0059j  0.2584+0.j    ]]\n",
      "Purity =  (0.9981699194695457-1.691355389077387e-17j)\n"
     ]
    },
    {
     "data": {
      "image/png": "[encoded data removed]",
      "text/plain": [
       "<Figure size 432x288 with 1 Axes>"
      ]
     },
     "metadata": {},
     "output_type": "display_data"
    }
   ],
   "source": [
    "rho = iterative_mle_state_estimate(results=results, qubits=qubits, epsilon=.0001, beta=.61)\n",
    "print(np.around(rho, decimals=4))\n",
    "print('Purity = ', np.trace(rho @ rho))\n",
    "hinton(rho)"
   ]
  },
  {
   "cell_type": "markdown",
   "metadata": {},
   "source": [
    "## Project an unphysical state to the closest physical state"
   ]
  },
  {
   "cell_type": "code",
   "execution_count": 14,
   "metadata": {},
   "outputs": [
    {
     "data": {
      "image/png": "[encoded data removed]",
      "text/plain": [
       "<Figure size 432x288 with 2 Axes>"
      ]
     },
     "metadata": {},
     "output_type": "display_data"
    }
   ],
   "source": [
    "from forest.benchmarking.tomography import project_density_matrix\n",
    "rho_unphys = np.random.uniform(-1, 1, (2, 2)) \\\n",
    "    * np.exp(1.j * np.random.uniform(-np.pi, np.pi, (2, 2)))\n",
    "rho_phys = project_density_matrix(rho_unphys)\n",
    "\n",
    "fig, (ax1, ax2) = plt.subplots(1, 2)\n",
    "hinton(rho_unphys, ax=ax1)\n",
    "hinton(rho_phys, ax=ax2)\n",
    "ax1.set_title('Unphysical')\n",
    "ax2.set_title('Physical projection')\n",
    "fig.tight_layout()"
   ]
  },
  {
   "cell_type": "code",
   "execution_count": 15,
   "metadata": {},
   "outputs": [
    {
     "data": {
      "text/plain": [
       "True"
      ]
     },
     "execution_count": 15,
     "metadata": {},
     "output_type": "execute_result"
    }
   ],
   "source": [
    "# Test the wizard method. Example from fig 1 of maximum likelihood minimum effort \n",
    "# https://doi.org/10.1103/PhysRevLett.108.070502\n",
    "\n",
    "eigs = np.diag(np.array(list(reversed([3.0/5, 1.0/2, 7.0/20, 1.0/10, -11.0/20]))))\n",
    "phys = project_density_matrix(eigs)\n",
    "np.allclose(phys, np.diag([0, 0, 1.0/5, 7.0/20, 9.0/20]))"
   ]
  },
  {
   "cell_type": "markdown",
   "metadata": {},
   "source": [
    "# Lightweight Bootstrap for functionals of the state"
   ]
  },
  {
   "cell_type": "code",
   "execution_count": 16,
   "metadata": {},
   "outputs": [],
   "source": [
    "import forest.benchmarking.distance_measures as dm\n",
    "from forest.benchmarking.tomography import estimate_variance"
   ]
  },
  {
   "cell_type": "code",
   "execution_count": 17,
   "metadata": {},
   "outputs": [],
   "source": [
    "from functools import partial\n",
    "fast_tomo_est = partial(iterative_mle_state_estimate, epsilon=.0001, beta=.5, tol=1e-3)"
   ]
  },
  {
   "cell_type": "markdown",
   "metadata": {},
   "source": [
    "**Purity**"
   ]
  },
  {
   "cell_type": "code",
   "execution_count": 18,
   "metadata": {},
   "outputs": [
    {
     "name": "stdout",
     "output_type": "stream",
     "text": [
      "(0.9889088015683456, 2.325750585087416e-06)\n",
      "(0.962989503002768, 0.00013633656213191947)\n"
     ]
    }
   ],
   "source": [
    "mle_est = estimate_variance(results, qubits, fast_tomo_est, dm.purity,\n",
    "                            n_resamples=40, project_to_physical=True)\n",
    "lin_inv_est = estimate_variance(results, qubits, linear_inv_state_estimate, dm.purity,\n",
    "                                n_resamples=40, project_to_physical=True)\n",
    "print(mle_est)\n",
    "print(lin_inv_est)"
   ]
  },
  {
   "cell_type": "markdown",
   "metadata": {},
   "source": [
    "**Fidelity**"
   ]
  },
  {
   "cell_type": "code",
   "execution_count": 19,
   "metadata": {},
   "outputs": [
    {
     "name": "stdout",
     "output_type": "stream",
     "text": [
      "(0.993861987965795, 5.089244614113219e-07)\n",
      "(0.9793693277877271, 3.8932955575469826e-05)\n"
     ]
    }
   ],
   "source": [
    "mle_est = estimate_variance(results, qubits, fast_tomo_est, dm.fidelity,\n",
    "                            target_state=rho_true, n_resamples=40, project_to_physical=True)\n",
    "lin_inv_est = estimate_variance(results, qubits, linear_inv_state_estimate, dm.fidelity,\n",
    "                                target_state=rho_true, n_resamples=40, project_to_physical=True)\n",
    "print(mle_est)\n",
    "print(lin_inv_est)"
   ]
  },
  {
   "cell_type": "code",
   "execution_count": null,
   "metadata": {},
   "outputs": [],
   "source": []
  }
 ],
 "metadata": {
  "kernelspec": {
   "display_name": "Python 3",
   "language": "python",
   "name": "python3"
  },
  "language_info": {
   "codemirror_mode": {
    "name": "ipython",
    "version": 3
   },
   "file_extension": ".py",
   "mimetype": "text/x-python",
   "name": "python",
   "nbconvert_exporter": "python",
   "pygments_lexer": "ipython3",
   "version": "3.7.0"
  }
 },
 "nbformat": 4,
 "nbformat_minor": 2
}
